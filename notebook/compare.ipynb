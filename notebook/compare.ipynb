{
 "cells": [
  {
   "cell_type": "code",
   "execution_count": 1,
   "metadata": {},
   "outputs": [],
   "source": [
    "import os\n",
    "\n",
    "os.chdir(\"..\")"
   ]
  },
  {
   "cell_type": "code",
   "execution_count": null,
   "metadata": {},
   "outputs": [],
   "source": [
    "import logging\n",
    "import pickle\n",
    "from pathlib import Path\n",
    "\n",
    "import pandas as pd\n",
    "import polars as pl\n",
    "from dateutil.parser import parse as date_parse\n",
    "\n",
    "from config import BINANCE_DATA_DIR, TradeType\n",
    "from config.config import _BASE_DIR\n",
    "from generate.resample import polars_calc_resample\n",
    "from generate.util import list_results_kline_symbols\n",
    "from util.time import convert_interval_to_timedelta\n",
    "from util.ts_manager import TSManager\n",
    "from data_compare import DataSource, BHDSLoader, QuantClassLoader, compare_symbol\n",
    "pl.Config.set_tbl_rows(30)"
   ]
  },
  {
   "cell_type": "code",
   "execution_count": 3,
   "metadata": {},
   "outputs": [],
   "source": [
    "symbol = 'BTCUSDT'\n",
    "\n",
    "qtc_loader = QuantClassLoader()\n",
    "df_qtc = qtc_loader.load_data(symbol, TradeType.spot)"
   ]
  },
  {
   "cell_type": "code",
   "execution_count": 4,
   "metadata": {},
   "outputs": [],
   "source": [
    "bhds_loader = BHDSLoader()\n",
    "df_bhds = bhds_loader.load_data(symbol, TradeType.spot)"
   ]
  },
  {
   "cell_type": "code",
   "execution_count": null,
   "metadata": {},
   "outputs": [],
   "source": [
    "compare_symbol(symbol, TradeType.spot)"
   ]
  },
  {
   "cell_type": "code",
   "execution_count": null,
   "metadata": {},
   "outputs": [],
   "source": [
    "compare_symbol(symbol, TradeType.um_futures)"
   ]
  }
 ],
 "metadata": {
  "language_info": {
   "name": "python"
  }
 },
 "nbformat": 4,
 "nbformat_minor": 2
}
