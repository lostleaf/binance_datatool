{
 "cells": [
  {
   "cell_type": "code",
   "execution_count": 1,
   "metadata": {},
   "outputs": [],
   "source": [
    "import os\n",
    "\n",
    "os.chdir('..')"
   ]
  },
  {
   "cell_type": "code",
   "execution_count": 2,
   "metadata": {},
   "outputs": [],
   "source": [
    "import polars as pl\n",
    "from config import BINANCE_DATA_DIR, TradeType\n",
    "from generate.merge import merge_klines, merge_funding_rates\n"
   ]
  },
  {
   "cell_type": "code",
   "execution_count": null,
   "metadata": {},
   "outputs": [],
   "source": [
    "symbol = 'BCHUSD_PERP'\n",
    "trade_type = TradeType.cm_futures\n",
    "    \n",
    "kline_results_dir = BINANCE_DATA_DIR / 'results_data' / trade_type.value / 'klines' / '1m'\n",
    "kline_file = kline_results_dir / f'{symbol}.pqt'\n",
    "df = pl.read_parquet(kline_file)\n",
    "df.filter(pl.col('funding_rate').abs() > 1e-6)"
   ]
  },
  {
   "cell_type": "code",
   "execution_count": null,
   "metadata": {},
   "outputs": [],
   "source": [
    "symbol = 'ETHUSDT'\n",
    "trade_type = TradeType.um_futures\n",
    "    \n",
    "kline_results_dir = BINANCE_DATA_DIR / 'results_data' / trade_type.value / 'klines' / '1m'\n",
    "kline_file = kline_results_dir / f'{symbol}.pqt'\n",
    "df = pl.read_parquet(kline_file)\n",
    "# df.head()"
   ]
  }
 ],
 "metadata": {
  "language_info": {
   "name": "python"
  }
 },
 "nbformat": 4,
 "nbformat_minor": 2
}
