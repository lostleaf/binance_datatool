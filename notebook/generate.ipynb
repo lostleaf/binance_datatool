{
 "cells": [
  {
   "cell_type": "code",
   "execution_count": 1,
   "metadata": {},
   "outputs": [],
   "source": [
    "import os\n",
    "\n",
    "os.chdir('..')"
   ]
  },
  {
   "cell_type": "code",
   "execution_count": 2,
   "metadata": {},
   "outputs": [],
   "source": [
    "import polars as pl\n",
    "from config import BINANCE_DATA_DIR, TradeType\n",
    "from generate.merge import merge_klines, merge_funding_rates\n"
   ]
  },
  {
   "cell_type": "code",
   "execution_count": null,
   "metadata": {},
   "outputs": [],
   "source": [
    "pl.read_parquet('/home/lostleaf/crypto_data/binance_data/api_data/cm_futures/klines/BTCUSD_PERP/1m')"
   ]
  },
  {
   "cell_type": "code",
   "execution_count": null,
   "metadata": {},
   "outputs": [],
   "source": [
    "symbol = 'BTCUSD_PERP'\n",
    "trade_type = TradeType.cm_futures\n",
    "    \n",
    "kline_results_dir = BINANCE_DATA_DIR / 'results_data' / trade_type.value / 'klines' / '1m'\n",
    "kline_file = kline_results_dir / f'{symbol}.pqt'\n",
    "df = pl.read_parquet(kline_file)\n",
    "df"
   ]
  },
  {
   "cell_type": "code",
   "execution_count": null,
   "metadata": {},
   "outputs": [],
   "source": [
    "symbol = 'SP0_BTCUSD_PERP'\n",
    "trade_type = TradeType.cm_futures\n",
    "    \n",
    "kline_results_dir = BINANCE_DATA_DIR / 'results_data' / trade_type.value / 'klines' / '1m'\n",
    "kline_file = kline_results_dir / f'{symbol}.pqt'\n",
    "df = pl.read_parquet(kline_file)\n",
    "df"
   ]
  }
 ],
 "metadata": {
  "language_info": {
   "name": "python"
  }
 },
 "nbformat": 4,
 "nbformat_minor": 2
}
