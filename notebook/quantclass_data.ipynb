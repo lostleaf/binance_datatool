{
 "cells": [
  {
   "cell_type": "code",
   "execution_count": 1,
   "metadata": {},
   "outputs": [],
   "source": [
    "import pandas as pd"
   ]
  },
  {
   "cell_type": "code",
   "execution_count": null,
   "metadata": {},
   "outputs": [],
   "source": [
    "spot_dict = pd.read_pickle(\n",
    "    \"/home/lostleaf/crypto_data/quantclass_data/coin-binance-spot-swap-preprocess-pkl-1h-2025-02-23/spot_dict.pkl\"\n",
    ")\n",
    "\n",
    "[x for x in spot_dict.keys() if \"SP\" in x]"
   ]
  }
 ],
 "metadata": {
  "language_info": {
   "name": "python"
  }
 },
 "nbformat": 4,
 "nbformat_minor": 2
}
