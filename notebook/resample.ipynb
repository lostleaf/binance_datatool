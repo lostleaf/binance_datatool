{
 "cells": [
  {
   "cell_type": "code",
   "execution_count": 1,
   "metadata": {},
   "outputs": [],
   "source": [
    "import os\n",
    "\n",
    "os.chdir(\"..\")"
   ]
  },
  {
   "cell_type": "code",
   "execution_count": null,
   "metadata": {},
   "outputs": [],
   "source": [
    "import polars as pl\n",
    "\n",
    "from config import BINANCE_DATA_DIR, TradeType\n",
    "from generate.resample import polars_calc_resample\n",
    "from generate.util import list_results_kline_symbols\n",
    "from util.time import convert_interval_to_timedelta\n",
    "from util.ts_manager import TSManager\n",
    "\n",
    "pl.Config.set_tbl_rows(30)"
   ]
  },
  {
   "cell_type": "code",
   "execution_count": null,
   "metadata": {},
   "outputs": [],
   "source": [
    "list_results_kline_symbols(TradeType.cm_futures, \"1m\")[:5]"
   ]
  },
  {
   "cell_type": "code",
   "execution_count": null,
   "metadata": {},
   "outputs": [],
   "source": [
    "um_futures_1m_kline_dir = BINANCE_DATA_DIR / \"results_data\" / \"spot\" / \"klines\" / \"1m\"\n",
    "print(um_futures_1m_kline_dir)\n",
    "\n",
    "symbol = 'BTCUSDT'\n",
    "df_btc_1m = pl.read_parquet(um_futures_1m_kline_dir / f'{symbol}.pqt')\n",
    "display(df_btc_1m.tail(5))\n",
    "\n",
    "df_btc_1h = polars_calc_resample(df_btc_1m, '1m', '1h', '0m')\n",
    "display(df_btc_1h.tail(5))"
   ]
  },
  {
   "cell_type": "code",
   "execution_count": null,
   "metadata": {},
   "outputs": [],
   "source": [
    "um_futures_1m_kline_dir = BINANCE_DATA_DIR / \"results_data\" / \"um_futures\" / \"klines\" / \"1m\"\n",
    "print(um_futures_1m_kline_dir)\n",
    "\n",
    "symbol = 'BTCUSDT'\n",
    "df_btc_1m = pl.read_parquet(um_futures_1m_kline_dir / f'{symbol}.pqt')\n",
    "display(df_btc_1m.tail(5))\n",
    "\n",
    "df_btc_1h = polars_calc_resample(df_btc_1m, '1m', '1h', '0m')\n",
    "display(df_btc_1h.tail(10))"
   ]
  },
  {
   "cell_type": "code",
   "execution_count": null,
   "metadata": {},
   "outputs": [],
   "source": [
    "p = \"/home/lostleaf/crypto_data/binance_data/results_data/cm_futures/resampled_klines/24h/1335m/BTCUSD_PERP.pqt\"\n",
    "df_btc_1h = pl.read_parquet(p)\n",
    "display(df_btc_1h.tail(10))\n",
    "\n",
    "df_btc_1h.with_columns((pl.col(\"volume\") / pl.col(\"quote_volume\")).alias(\"vwap\")).tail(10)"
   ]
  }
 ],
 "metadata": {
  "language_info": {
   "name": "python"
  }
 },
 "nbformat": 4,
 "nbformat_minor": 2
}
