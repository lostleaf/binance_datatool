{
 "cells": [
  {
   "cell_type": "code",
   "execution_count": 1,
   "metadata": {},
   "outputs": [],
   "source": [
    "import os\n",
    "\n",
    "os.chdir(\"..\")"
   ]
  },
  {
   "cell_type": "code",
   "execution_count": null,
   "metadata": {},
   "outputs": [],
   "source": [
    "import logging\n",
    "import pickle\n",
    "from pathlib import Path\n",
    "\n",
    "import pandas as pd\n",
    "import polars as pl\n",
    "from dateutil.parser import parse as date_parse\n",
    "\n",
    "from config import BINANCE_DATA_DIR, TradeType\n",
    "from config.config import _BASE_DIR\n",
    "from generate.resample import polars_calc_resample\n",
    "from generate.util import list_results_kline_symbols\n",
    "from util.time import convert_interval_to_timedelta\n",
    "from util.ts_manager import TSManager\n",
    "\n",
    "pl.Config.set_tbl_rows(30)"
   ]
  },
  {
   "cell_type": "code",
   "execution_count": null,
   "metadata": {},
   "outputs": [],
   "source": [
    "parsed_btc_dir = BINANCE_DATA_DIR / 'parsed_data' / 'um_futures' / 'klines' / 'BTCUSDT' / '1m'\n",
    "btc_ts_mgr = TSManager(parsed_btc_dir)\n",
    "btc_ts_mgr.read_all().filter(pl.col('candle_begin_time').is_between(date_parse('2024-10-28 19:55:00+00:00'), date_parse('2024-10-28 20:05:00+00:00')))"
   ]
  },
  {
   "cell_type": "code",
   "execution_count": null,
   "metadata": {},
   "outputs": [],
   "source": [
    "um_futures_1m_kline_dir = BINANCE_DATA_DIR / \"results_data\" / \"um_futures\" / \"klines\" / \"1m\"\n",
    "print(um_futures_1m_kline_dir)\n",
    "\n",
    "symbol = 'BTCUSDT'\n",
    "df_btc_1m = pl.read_parquet(um_futures_1m_kline_dir / f'{symbol}.pqt')\n",
    "display(df_btc_1m.tail())\n",
    "\n",
    "df_btc_1m.filter(pl.col('candle_begin_time').is_between(date_parse('2024-10-28 19:55:00+00:00'), date_parse('2024-10-28 20:05:00+00:00')))"
   ]
  },
  {
   "cell_type": "code",
   "execution_count": null,
   "metadata": {},
   "outputs": [],
   "source": [
    "um_futures_1h_kline_dir = BINANCE_DATA_DIR / \"results_data\" / \"um_futures\" / \"resampled_klines\" / \"1h\"\n",
    "df_btc_1h = pl.read_parquet(um_futures_1h_kline_dir / '0m' / 'BTCUSDT.pqt')\n",
    "display(df_btc_1h.tail())"
   ]
  },
  {
   "cell_type": "code",
   "execution_count": null,
   "metadata": {},
   "outputs": [],
   "source": [
    "quantclass_dir = _BASE_DIR / 'quantclass_data'\n",
    "preprocess_dir = quantclass_dir / 'coin-binance-spot-swap-preprocess-pkl-1h-2025-03-06'\n",
    "spot_dict = pickle.load(open(preprocess_dir / 'swap_dict.pkl', 'rb'))\n",
    "df_btc_qtc: pd.DataFrame = spot_dict['BTC-USDT']\n",
    "df_btc_qtc.tail()"
   ]
  },
  {
   "cell_type": "code",
   "execution_count": null,
   "metadata": {},
   "outputs": [],
   "source": [
    "df_aws = df_btc_1h.to_pandas().copy()\n",
    "df_qtc = df_btc_qtc.copy()\n",
    "df_qtc['candle_begin_time'] = df_qtc['candle_begin_time'].dt.tz_localize('UTC')\n",
    "df_qtc.rename({'funding_fee': 'funding_rate'}, axis=1, inplace=True)\n",
    "\n",
    "print(f'Time {df_aws[\"candle_begin_time\"].min()} -- {df_aws[\"candle_begin_time\"].max()} AWS')\n",
    "\n",
    "print(f'Time {df_btc_qtc[\"candle_begin_time\"].min()} -- {df_btc_qtc[\"candle_begin_time\"].max()} Quantclass')\n",
    "\n",
    "begin_ts = max(df_aws['candle_begin_time'].min(), df_qtc['candle_begin_time'].min())\n",
    "end_ts = min(df_aws['candle_begin_time'].max(), df_qtc['candle_begin_time'].max())\n",
    "print(f'Time {begin_ts} -- {end_ts}')\n",
    "\n",
    "df_aws = df_aws[df_aws['candle_begin_time'].between(begin_ts, end_ts)]\n",
    "print(f'Trimmed shape {df_aws.shape} AWS')\n",
    "\n",
    "df_qtc = df_qtc[df_qtc['candle_begin_time'].between(begin_ts, end_ts)]\n",
    "print(f'Trimmed shape {df_qtc.shape} Quantclass')\n",
    "\n",
    "ts_intersect = set(df_aws['candle_begin_time']).intersection(set(df_qtc['candle_begin_time']))\n",
    "print(f'Intersecion num candle_begin_time {len(ts_intersect)}') \n",
    "\n",
    "df = df_aws.join(df_qtc.set_index('candle_begin_time'), on='candle_begin_time', rsuffix='_qtc')\n",
    "\n",
    "cols = [\n",
    "    'open', 'high', 'low', 'close', 'volume', 'quote_volume', 'trade_num', 'taker_buy_base_asset_volume',\n",
    "    'taker_buy_quote_asset_volume', 'funding_rate'\n",
    "]\n",
    "\n",
    "error_begin_time = None\n",
    "for c in cols:\n",
    "    df['diff'] = (df[c] - df[f'{c}_qtc'])\n",
    "    df['diff_abs'] = df['diff'].abs()\n",
    "    max_diff = df['diff_abs'].max()\n",
    "    diff_num = (df['diff_abs'] > 1e-4).sum()\n",
    "    print(f'Column: {c}, max diff {max_diff}, diff num {diff_num}')\n",
    "    if max_diff > 1e-4:\n",
    "        display(df.loc[df['diff_abs'] > 1e-4][['candle_begin_time', c, f'{c}_qtc', 'diff']])\n",
    "        error_begin_time = df[df['diff_abs'] == max_diff].iloc[0]['candle_begin_time']\n",
    "    df.drop(columns=['diff', 'diff_abs'], inplace=True)\n",
    "\n",
    "if error_begin_time is not None:\n",
    "    df_err = pd.concat([\n",
    "        df_aws.loc[df_aws['candle_begin_time'] == error_begin_time, cols],\n",
    "        df_qtc.loc[df_qtc['candle_begin_time'] == error_begin_time, cols]\n",
    "    ])\n",
    "    print(error_begin_time)\n",
    "    display(df_err)"
   ]
  }
 ],
 "metadata": {
  "language_info": {
   "name": "python"
  }
 },
 "nbformat": 4,
 "nbformat_minor": 2
}
