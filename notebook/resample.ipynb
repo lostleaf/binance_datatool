{
 "cells": [
  {
   "cell_type": "code",
   "execution_count": null,
   "id": "53b8a1f2",
   "metadata": {},
   "outputs": [],
   "source": [
    "from datetime import timedelta\n",
    "from pathlib import Path\n",
    "\n",
    "import polars as pl\n",
    "\n",
    "from bdt_common.enums import TradeType\n",
    "from bhds.holo_kline.merger import Holo1mKlineMerger\n",
    "from bhds.holo_kline.resampler import HoloKlineResampler\n",
    "\n",
    "pl.Config.set_tbl_rows(100)"
   ]
  },
  {
   "cell_type": "code",
   "execution_count": null,
   "id": "268ec1b2",
   "metadata": {},
   "outputs": [],
   "source": [
    "binance_data_dir = Path.home() / 'crypto_data' / 'binance_data'\n",
    "parsed_dir = binance_data_dir / 'parsed_data'\n",
    "holo_1m_dir = binance_data_dir / 'holo_1m_klines'\n",
    "resampled_dir = binance_data_dir / 'resampled_klines'"
   ]
  },
  {
   "cell_type": "code",
   "execution_count": null,
   "id": "74625dde",
   "metadata": {},
   "outputs": [],
   "source": [
    "merger = Holo1mKlineMerger(\n",
    "    trade_type=TradeType.um_futures, base_dir=parsed_dir, include_vwap=True, include_funding=True\n",
    ")\n",
    "\n",
    "kline_1m_file = Path(\"/tmp/btc_1m.parquet\")\n",
    "ldf = merger.generate(\"BTCUSDT\", kline_1m_file)\n",
    "ldf.collect()\n",
    "\n",
    "df = pl.read_parquet(kline_1m_file)\n",
    "\n",
    "display(df.filter(pl.col(\"funding_rate\").abs() > 1e-8).head())"
   ]
  },
  {
   "cell_type": "code",
   "execution_count": null,
   "id": "226f17c0",
   "metadata": {},
   "outputs": [],
   "source": [
    "print(f\"{kline_1m_file} exists: {kline_1m_file.exists()}\")\n",
    "\n",
    "ldf = pl.scan_parquet(kline_1m_file)\n",
    "schema = pl.read_parquet_schema(kline_1m_file)\n",
    "\n",
    "resampler = HoloKlineResampler(\"1h\")\n",
    "ldf_resample = resampler.resample(ldf, offset='30m', schema=schema)\n",
    "\n",
    "df_res = ldf_resample.collect()\n",
    "\n",
    "df_res = df_res.with_columns((pl.col('candle_end_time') - pl.col('candle_begin_time')).alias('duration'))\n",
    "keep_condition = pl.col(\"duration\") == timedelta(hours=1)\n",
    "df_res = df_res.with_row_index(name=\"_idx\").filter(\n",
    "        (pl.col(\"_idx\") != pl.col(\"_idx\").max()) | keep_condition\n",
    "    ).drop(\"_idx\")\n",
    "display(df_res.filter(pl.col('duration') != timedelta(hours=1)))\n",
    "display(df_res.head())\n",
    "display(df_res.tail())"
   ]
  },
  {
   "cell_type": "code",
   "execution_count": null,
   "id": "0f36facd",
   "metadata": {},
   "outputs": [],
   "source": [
    "resampled_file = resampled_dir / \"futures_um/1h/5m/BTCUSDT.parquet\"\n",
    "print(f\"{resampled_file} exists: {resampled_file.exists()}\")\n",
    "\n",
    "df_res = pl.read_parquet(resampled_file)\n",
    "\n",
    "display(pl.concat([df_res.head(2), df_res.tail(2)]))\n",
    "display(df_res.filter(pl.col(\"funding_rate\").is_not_null()).tail())\n"
   ]
  },
  {
   "cell_type": "code",
   "execution_count": null,
   "id": "4cb819e4",
   "metadata": {},
   "outputs": [],
   "source": [
    "resampled_file = resampled_dir / \"futures_cm/1h/5m/BTCUSD_PERP.parquet\"\n",
    "print(f\"{resampled_file} exists: {resampled_file.exists()}\")\n",
    "\n",
    "df_res = pl.read_parquet(resampled_file)\n",
    "\n",
    "display(pl.concat([df_res.head(2), df_res.tail(2)]))\n",
    "display(df_res.filter(pl.col(\"funding_rate\").is_not_null()).tail())\n"
   ]
  }
 ],
 "metadata": {
  "kernelspec": {
   "display_name": ".venv",
   "language": "python",
   "name": "python3"
  },
  "language_info": {
   "codemirror_mode": {
    "name": "ipython",
    "version": 3
   },
   "file_extension": ".py",
   "mimetype": "text/x-python",
   "name": "python",
   "nbconvert_exporter": "python",
   "pygments_lexer": "ipython3",
   "version": "3.12.11"
  }
 },
 "nbformat": 4,
 "nbformat_minor": 5
}
