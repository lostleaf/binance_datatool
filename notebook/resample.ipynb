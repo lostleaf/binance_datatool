{
 "cells": [
  {
   "cell_type": "code",
   "execution_count": 1,
   "metadata": {},
   "outputs": [],
   "source": [
    "import os\n",
    "os.chdir('..')"
   ]
  },
  {
   "cell_type": "code",
   "execution_count": null,
   "metadata": {},
   "outputs": [],
   "source": [
    "import polars as pl\n",
    "\n",
    "from config import BINANCE_DATA_DIR, TradeType\n",
    "from generate.resample import resampled_kline\n",
    "from util.time import convert_interval_to_timedelta\n",
    "\n",
    "pl.Config.set_tbl_rows(30)"
   ]
  },
  {
   "cell_type": "code",
   "execution_count": null,
   "metadata": {},
   "outputs": [],
   "source": [
    "spot_1m_kline_dir = BINANCE_DATA_DIR / \"results_data\" / \"spot\" / \"klines\" / \"1m\"\n",
    "spot_1m_kline_dir"
   ]
  },
  {
   "cell_type": "code",
   "execution_count": null,
   "metadata": {},
   "outputs": [],
   "source": [
    "symbol = 'BTCUSDT'\n",
    "df_btc_1m = pl.read_parquet(spot_1m_kline_dir / f'{symbol}.pqt')\n",
    "df_btc_1m.tail(5)"
   ]
  },
  {
   "cell_type": "code",
   "execution_count": null,
   "metadata": {},
   "outputs": [],
   "source": [
    "def polars_calc_resample(df: pl.DataFrame, time_interval: str, resample_interval: str, offset_str: str) -> pl.DataFrame:\n",
    "    \"\"\"\n",
    "    将 Polars K线 DataFrame, Resample 成带 offset 的大周期 K 线\n",
    "    例如将 5m K线, Resample 成 5分钟偏移的小时线\n",
    "    \"\"\"\n",
    "    time_interval = convert_interval_to_timedelta(time_interval)\n",
    "    resample_interval = convert_interval_to_timedelta(resample_interval)\n",
    "    offset = convert_interval_to_timedelta(offset_str)\n",
    "\n",
    "    ldf = df.lazy()\n",
    "\n",
    "    ldf = ldf.with_columns((pl.col('candle_begin_time') + time_interval).alias('candle_end_time'))\n",
    "    ldf = ldf.group_by_dynamic(\"candle_begin_time\", every=resample_interval, offset=offset).agg(\n",
    "        pl.col(\"candle_begin_time\").first().alias(\"candle_begin_time_real\"),\n",
    "        pl.col(\"candle_end_time\").last(),\n",
    "        pl.col(\"open\").first(),\n",
    "        pl.col(\"high\").max(),\n",
    "        pl.col(\"low\").min(),\n",
    "        pl.col(\"close\").last(),\n",
    "        pl.col(\"volume\").sum(),\n",
    "        pl.col(\"quote_volume\").sum(),\n",
    "        pl.col(\"trade_num\").sum(),\n",
    "        pl.col(\"taker_buy_base_asset_volume\").sum(),\n",
    "        pl.col(\"taker_buy_quote_asset_volume\").sum(),\n",
    "        pl.col(\"avg_price_1m\").first(),\n",
    "    )\n",
    "\n",
    "    # 过滤掉 Resample 后，时间长度不足的 K 线\n",
    "    ldf = ldf.filter((pl.col(\"candle_end_time\") - pl.col(\"candle_begin_time_real\")) == resample_interval)\n",
    "    ldf = ldf.drop([\"candle_begin_time_real\", \"candle_end_time\"])\n",
    "    return ldf.collect()\n",
    "\n",
    "df_btc_1h = polars_calc_resample(df_btc_1m, '1m', '1h', '5m')\n",
    "df_btc_1h.tail(5)"
   ]
  },
  {
   "cell_type": "code",
   "execution_count": null,
   "metadata": {},
   "outputs": [],
   "source": [
    "resampled_kline(TradeType.spot, \"BTCUSDT\", \"1h\", \"5m\")\n",
    "\n",
    "df_btc_1h = pl.read_parquet(\n",
    "    \"/home/lostleaf/crypto_data/binance_data/results_data/spot/resampled_klines/1h/35m/BTCUSDT.pqt\"\n",
    ")\n",
    "\n",
    "df_btc_1h.tail()"
   ]
  }
 ],
 "metadata": {
  "language_info": {
   "name": "python"
  }
 },
 "nbformat": 4,
 "nbformat_minor": 2
}
