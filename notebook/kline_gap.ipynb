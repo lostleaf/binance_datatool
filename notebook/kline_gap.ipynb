{
 "cells": [
  {
   "cell_type": "code",
   "execution_count": null,
   "metadata": {},
   "outputs": [],
   "source": [
    "import os\n",
    "os.chdir('..')"
   ]
  },
  {
   "cell_type": "code",
   "execution_count": null,
   "metadata": {},
   "outputs": [],
   "source": [
    "from datetime import timedelta\n",
    "import time\n",
    "\n",
    "import polars as pl\n",
    "\n",
    "from generate.kline import merge_kline_lazy, detect_gaps_lazy\n",
    "from config import TradeType, BINANCE_DATA_DIR\n",
    "from util.log_kit import logger\n",
    "\n",
    "pl.Config.set_tbl_rows(100)"
   ]
  },
  {
   "cell_type": "code",
   "execution_count": null,
   "metadata": {},
   "outputs": [],
   "source": [
    "spot_results_dir = BINANCE_DATA_DIR / \"results_data\" / TradeType.spot / \"klines\" / \"1m\"\n",
    "luna_files = list(spot_results_dir.glob('*LUNAUSDT*'))"
   ]
  },
  {
   "cell_type": "code",
   "execution_count": null,
   "metadata": {},
   "outputs": [],
   "source": [
    "for f in luna_files:\n",
    "    df = pl.read_parquet(f)\n",
    "    print(f.stem, df[\"candle_begin_time\"].is_sorted())\n",
    "    display(df.head())\n",
    "    display(df.tail())"
   ]
  },
  {
   "cell_type": "code",
   "execution_count": null,
   "metadata": {},
   "outputs": [],
   "source": [
    "ufutures_results_dir = BINANCE_DATA_DIR / \"results_data\" / TradeType.um_futures / \"klines\" / \"1m\"\n",
    "files = list(ufutures_results_dir.glob('*TLMUSDT*'))\n",
    "for f in files:\n",
    "    print(f.stem)"
   ]
  },
  {
   "cell_type": "code",
   "execution_count": null,
   "metadata": {},
   "outputs": [],
   "source": [
    "for f in files:\n",
    "    df = pl.read_parquet(f)\n",
    "    print(f.stem, df[\"candle_begin_time\"].is_sorted())\n",
    "    display(df.head())\n",
    "    display(df.tail())"
   ]
  }
 ],
 "metadata": {
  "kernelspec": {
   "display_name": ".venv",
   "language": "python",
   "name": "python3"
  },
  "language_info": {
   "codemirror_mode": {
    "name": "ipython",
    "version": 3
   },
   "file_extension": ".py",
   "mimetype": "text/x-python",
   "name": "python",
   "nbconvert_exporter": "python",
   "pygments_lexer": "ipython3",
   "version": "3.12.11"
  }
 },
 "nbformat": 4,
 "nbformat_minor": 2
}
