{
 "cells": [
  {
   "cell_type": "code",
   "execution_count": 1,
   "metadata": {},
   "outputs": [],
   "source": [
    "import os\n",
    "os.chdir('..')"
   ]
  },
  {
   "cell_type": "code",
   "execution_count": null,
   "metadata": {},
   "outputs": [],
   "source": [
    "import multiprocessing as mp\n",
    "from datetime import timedelta\n",
    "import polars as pl\n",
    "\n",
    "import config\n",
    "from aws.kline.util import local_list_kline_symbols\n",
    "from config import BINANCE_DATA_DIR, TradeType\n",
    "from generate.merge import merge_klines\n",
    "from generate.kline import merge_klines, merge_and_split_gaps, scan_gaps, fill_kline_gaps\n",
    "\n",
    "pl.Config.set_tbl_rows(30)"
   ]
  },
  {
   "cell_type": "code",
   "execution_count": null,
   "metadata": {},
   "outputs": [],
   "source": [
    "\n",
    "symbol = 'BNXUSDT'\n",
    "time_interval = '1m'\n",
    "\n",
    "min_delta = 1\n",
    "min_price_chg = 0.1\n",
    "\n",
    "df = merge_klines(TradeType.spot, \"BNXUSDT\", time_interval, exclude_empty=True)\n",
    "display(scan_gaps(df, min_delta, min_price_chg))\n",
    "\n",
    "df = merge_klines(TradeType.spot, \"BTCUSDT\", time_interval, exclude_empty=True)\n",
    "display(scan_gaps(df, min_delta, min_price_chg))"
   ]
  },
  {
   "cell_type": "code",
   "execution_count": null,
   "metadata": {},
   "outputs": [],
   "source": [
    "symbol = 'BNXUSDT'\n",
    "time_interval = '1m'\n",
    "\n",
    "min_delta = 1\n",
    "min_price_chg = 0.1\n",
    "\n",
    "df = merge_klines(TradeType.spot, \"BTCUSDT\", time_interval, exclude_empty=True)\n",
    "df1 = fill_kline_gaps(df, time_interval)\n",
    "df1.filter(pl.col('volume') == 0).tail(30)"
   ]
  },
  {
   "cell_type": "code",
   "execution_count": null,
   "metadata": {},
   "outputs": [],
   "source": [
    "symbol = 'BNXUSDT'\n",
    "time_interval = '1m'\n",
    "\n",
    "min_days = 1\n",
    "min_price_chg = 0.1\n",
    "\n",
    "results = merge_and_split_gaps(\n",
    "    trade_type=TradeType.spot,\n",
    "    time_interval=time_interval,\n",
    "    symbol=symbol,\n",
    "    split_gaps=True,\n",
    "    min_days=min_days,\n",
    "    min_price_chg=min_price_chg,\n",
    "    with_vwap=True,\n",
    ")\n",
    "\n",
    "\n",
    "results_dir = BINANCE_DATA_DIR / \"results_data\" / TradeType.spot.value / \"klines\" / time_interval\n",
    "for p in sorted(results_dir.glob(f'*{symbol}.pqt')):\n",
    "    df = pl.read_parquet(p)\n",
    "    print(p.stem,df.shape, df['candle_begin_time'].min(), df['candle_begin_time'].max())"
   ]
  },
  {
   "cell_type": "code",
   "execution_count": null,
   "metadata": {},
   "outputs": [],
   "source": [
    "symbol = 'NBTUSDT'\n",
    "time_interval = '1m'\n",
    "\n",
    "min_days = 1\n",
    "min_price_chg = 0.1\n",
    "\n",
    "results = merge_and_split_gaps(\n",
    "    trade_type=TradeType.spot,\n",
    "    time_interval=time_interval,\n",
    "    symbol=symbol,\n",
    "    split_gaps=True,\n",
    "    min_days=min_days,\n",
    "    min_price_chg=min_price_chg,\n",
    "    with_vwap=True,\n",
    ")\n",
    "\n",
    "\n",
    "results_dir = BINANCE_DATA_DIR / \"results_data\" / TradeType.spot.value / \"klines\" / time_interval\n",
    "for p in sorted(results_dir.glob(f'*{symbol}.pqt')):\n",
    "    df = pl.read_parquet(p)\n",
    "    print(p.stem,df.shape, df['candle_begin_time'].min(), df['candle_begin_time'].max())"
   ]
  },
  {
   "cell_type": "code",
   "execution_count": 7,
   "metadata": {},
   "outputs": [],
   "source": [
    "def display_gaps_all(trade_type: TradeType, time_interval: str, min_delta: timedelta, min_price_chg: float):\n",
    "    symbols = local_list_kline_symbols(trade_type, time_interval)\n",
    "\n",
    "    dfs = []\n",
    "    for symbol in symbols:\n",
    "        ldf = merge_klines(TradeType.spot, symbol, time_interval, exclude_empty=True)\n",
    "        df_gap = scan_gaps(ldf, min_delta, min_price_chg)\n",
    "        if not df_gap.is_empty():\n",
    "            dfs.append(df_gap.with_columns(pl.lit(symbol).alias(\"symbol\")))\n",
    "\n",
    "    df_gaps =pl.concat(dfs).sort('candle_begin_time')\n",
    "    display(df_gaps)\n",
    "\n",
    "# display_gaps_all(TradeType.spot, '1m', timedelta(days=1), 0.1)\n",
    "# display_gaps_all(TradeType.spot, '1m', timedelta(days=2), 0)\n",
    "# display_gaps_all(TradeType.spot, '1m', timedelta(days=1), 0)\n",
    "\n",
    "# display_gaps_all(TradeType.um_futures, '1m', timedelta(days=1), 0.1)\n",
    "# display_gaps_all(TradeType.um_futures, '1m', timedelta(days=2), 0)\n",
    "# display_gaps_all(TradeType.um_futures, '1m', timedelta(days=1), 0)"
   ]
  }
 ],
 "metadata": {
  "kernelspec": {
   "display_name": "datatool",
   "language": "python",
   "name": "python3"
  },
  "language_info": {
   "codemirror_mode": {
    "name": "ipython",
    "version": 3
   },
   "file_extension": ".py",
   "mimetype": "text/x-python",
   "name": "python",
   "nbconvert_exporter": "python",
   "pygments_lexer": "ipython3",
   "version": "3.12.9"
  }
 },
 "nbformat": 4,
 "nbformat_minor": 2
}
