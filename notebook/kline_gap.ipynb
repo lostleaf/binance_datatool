{
 "cells": [
  {
   "cell_type": "code",
   "execution_count": null,
   "metadata": {},
   "outputs": [],
   "source": [
    "import os\n",
    "os.chdir('..')"
   ]
  },
  {
   "cell_type": "code",
   "execution_count": null,
   "metadata": {},
   "outputs": [],
   "source": [
    "from datetime import timezone\n",
    "from pathlib import Path\n",
    "\n",
    "import polars as pl\n",
    "from dateutil import parser\n",
    "from datetime import timedelta\n",
    "\n",
    "from config import DataFrequency, BINANCE_DATA_DIR, TradeType\n",
    "\n",
    "from util.ts_manager import TSManager\n",
    "from aws.kline.parse import read_csv\n",
    "from aws.client_async import AwsKlineClient\n",
    "from merge.kline import merge_klines\n",
    "\n",
    "pl.Config.set_tbl_rows(30)"
   ]
  },
  {
   "cell_type": "code",
   "execution_count": null,
   "metadata": {},
   "outputs": [],
   "source": [
    "symbol = 'BNXUSDT'\n",
    "time_interval = '1m'"
   ]
  },
  {
   "cell_type": "code",
   "execution_count": null,
   "metadata": {},
   "outputs": [],
   "source": [
    "def scan_gaps(df, min_delta, min_price_chg):\n",
    "    df = df.lazy()\n",
    "\n",
    "    df = df.with_columns(pl.col('candle_begin_time').diff().alias('time_diff'))\n",
    "    df = df.with_columns((pl.col('open') / pl.col('close').shift() - 1).alias('price_change'))\n",
    "\n",
    "\n",
    "    df_gap = df.filter((pl.col('time_diff') > min_delta) & (pl.col('price_change').abs() > min_price_chg))\n",
    "    df_gap = df_gap.select('candle_begin_time', 'open', 'time_diff', 'price_change')\n",
    "\n",
    "    return df_gap\n",
    "\n",
    "\n",
    "min_delta = timedelta(days=1)\n",
    "min_price_chg = 0.1\n",
    "\n",
    "df = merge_klines(TradeType.spot, 'BNXUSDT', time_interval, exclude_empty=True)\n",
    "display(scan_gaps(df, min_delta, min_price_chg))\n",
    "\n",
    "df = merge_klines(TradeType.spot, 'BTCUSDT', time_interval, exclude_empty=True)\n",
    "display(scan_gaps(df, min_delta, min_price_chg))\n"
   ]
  },
  {
   "cell_type": "code",
   "execution_count": null,
   "metadata": {},
   "outputs": [],
   "source": [
    "min_delta = timedelta(days=1)\n",
    "min_price_chg = 0.1\n",
    "trade_type = TradeType.spot\n",
    "\n",
    "symbols = (BINANCE_DATA_DIR / \"parsed_data\" / trade_type.value / \"klines\").glob(\"*\")\n",
    "symbols = sorted(s.name for s in symbols)\n",
    "\n",
    "dfs = []\n",
    "for symbol in symbols:\n",
    "    df = merge_klines(TradeType.spot, symbol, time_interval, exclude_empty=True)\n",
    "    df_gap = scan_gaps(df, min_delta, min_price_chg)\n",
    "    if not df_gap.is_empty():\n",
    "        print(symbol)\n",
    "        dfs.append(df_gap.with_columns(pl.lit(symbol).alias(\"symbol\")))\n",
    "\n",
    "pl.concat(dfs).sort('candle_begin_time')"
   ]
  },
  {
   "cell_type": "code",
   "execution_count": null,
   "metadata": {},
   "outputs": [],
   "source": [
    "min_delta = timedelta(days=3)\n",
    "min_price_chg = 0\n",
    "trade_type = TradeType.spot\n",
    "\n",
    "symbols = (BINANCE_DATA_DIR / \"parsed_data\" / trade_type.value / \"klines\").glob(\"*\")\n",
    "symbols = sorted(s.name for s in symbols)\n",
    "\n",
    "dfs = []\n",
    "for symbol in symbols:\n",
    "    df = merge_klines(TradeType.spot, symbol, time_interval, exclude_empty=True)\n",
    "    df_gap = scan_gaps(df, min_delta, min_price_chg)\n",
    "    if not df_gap.is_empty():\n",
    "        print(symbol)\n",
    "        dfs.append(df_gap.with_columns(pl.lit(symbol).alias(\"symbol\")))\n",
    "\n",
    "pl.concat(dfs).sort('candle_begin_time')"
   ]
  },
  {
   "cell_type": "code",
   "execution_count": null,
   "metadata": {},
   "outputs": [],
   "source": [
    "min_delta = timedelta(days=1)\n",
    "min_price_chg = 0.1\n",
    "trade_type = TradeType.um_futures\n",
    "\n",
    "symbols = (BINANCE_DATA_DIR / \"parsed_data\" / trade_type.value / \"klines\").glob(\"*\")\n",
    "symbols = sorted(s.name for s in symbols)\n",
    "\n",
    "dfs = []\n",
    "for symbol in symbols:\n",
    "    df_gap = scan_gaps(trade_type, symbol, time_interval, min_delta, min_price_chg)\n",
    "    if not df_gap.is_empty():\n",
    "        print(symbol)\n",
    "        dfs.append(df_gap.with_columns(pl.lit(symbol).alias(\"symbol\")))\n",
    "\n",
    "pl.concat(dfs)"
   ]
  },
  {
   "cell_type": "code",
   "execution_count": null,
   "metadata": {},
   "outputs": [],
   "source": [
    "min_delta = timedelta(days=3)\n",
    "min_price_chg = 0\n",
    "trade_type = TradeType.um_futures\n",
    "\n",
    "symbols = (BINANCE_DATA_DIR / \"parsed_data\" / trade_type.value / \"klines\").glob(\"*\")\n",
    "symbols = sorted(s.name for s in symbols)\n",
    "\n",
    "dfs = []\n",
    "for symbol in symbols:\n",
    "    df_gap = scan_gaps(trade_type, symbol, time_interval, min_delta, min_price_chg)\n",
    "    if not df_gap.is_empty():\n",
    "        print(symbol)\n",
    "        dfs.append(df_gap.with_columns(pl.lit(symbol).alias(\"symbol\")))\n",
    "\n",
    "pl.concat(dfs)"
   ]
  }
 ],
 "metadata": {
  "kernelspec": {
   "display_name": "datatool",
   "language": "python",
   "name": "python3"
  },
  "language_info": {
   "codemirror_mode": {
    "name": "ipython",
    "version": 3
   },
   "file_extension": ".py",
   "mimetype": "text/x-python",
   "name": "python",
   "nbconvert_exporter": "python",
   "pygments_lexer": "ipython3",
   "version": "3.12.9"
  }
 },
 "nbformat": 4,
 "nbformat_minor": 2
}
