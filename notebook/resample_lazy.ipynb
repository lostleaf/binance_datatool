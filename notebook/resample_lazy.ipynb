{
 "cells": [
  {
   "cell_type": "code",
   "execution_count": null,
   "id": "5781357e",
   "metadata": {},
   "outputs": [],
   "source": [
    "import os\n",
    "\n",
    "os.chdir(\"..\")"
   ]
  },
  {
   "cell_type": "code",
   "execution_count": null,
   "id": "53b8a1f2",
   "metadata": {},
   "outputs": [],
   "source": [
    "import polars as pl\n",
    "\n",
    "from config import TradeType\n",
    "\n",
    "from generate.resample_lazy import process_symbols_batch, resample_kline\n",
    "\n",
    "pl.Config.set_tbl_rows(30)"
   ]
  },
  {
   "cell_type": "code",
   "execution_count": null,
   "id": "59e1a0ab",
   "metadata": {},
   "outputs": [],
   "source": [
    "ldfs = process_symbols_batch(TradeType.spot, ['BTCUSDT'], '1h', '5m')\n",
    "\n",
    "ldfs[5].show_graph()"
   ]
  },
  {
   "cell_type": "code",
   "execution_count": null,
   "id": "226f17c0",
   "metadata": {},
   "outputs": [],
   "source": [
    "resample_kline(TradeType.spot, 'BTCUSDT', '1h', '5m')"
   ]
  }
 ],
 "metadata": {
  "kernelspec": {
   "display_name": "binance-datatool (3.12.11)",
   "language": "python",
   "name": "python3"
  },
  "language_info": {
   "codemirror_mode": {
    "name": "ipython",
    "version": 3
   },
   "file_extension": ".py",
   "mimetype": "text/x-python",
   "name": "python",
   "nbconvert_exporter": "python",
   "pygments_lexer": "ipython3",
   "version": "3.12.11"
  }
 },
 "nbformat": 4,
 "nbformat_minor": 5
}
