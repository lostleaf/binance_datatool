{
 "cells": [
  {
   "cell_type": "code",
   "execution_count": null,
   "id": "5781357e",
   "metadata": {},
   "outputs": [],
   "source": [
    "import os\n",
    "\n",
    "os.chdir(\"..\")"
   ]
  },
  {
   "cell_type": "code",
   "execution_count": null,
   "id": "53b8a1f2",
   "metadata": {},
   "outputs": [],
   "source": [
    "import time\n",
    "from datetime import timedelta\n",
    "\n",
    "import polars as pl\n",
    "\n",
    "from config import BINANCE_DATA_DIR, TradeType\n",
    "from generate.kline import detect_gaps_lazy, merge_kline_lazy\n",
    "from generate.resample_lazy import process_symbols_batch, resample_kline\n",
    "from util.log_kit import logger\n",
    "\n",
    "pl.Config.set_tbl_rows(30)"
   ]
  },
  {
   "cell_type": "code",
   "execution_count": null,
   "id": "59e1a0ab",
   "metadata": {},
   "outputs": [],
   "source": [
    "spot_results_dir = BINANCE_DATA_DIR / \"results_data\" / TradeType.spot / \"resampled_klines\" / \"1h\"\n",
    "offset = \"5m\"\n",
    "btc_file = spot_results_dir / offset / \"BTCUSDT.parquet\"\n",
    "pl.read_parquet(btc_file).tail()"
   ]
  },
  {
   "cell_type": "code",
   "execution_count": null,
   "id": "226f17c0",
   "metadata": {},
   "outputs": [],
   "source": [
    "spot_results_dir = BINANCE_DATA_DIR / \"results_data\" / TradeType.um_futures / \"resampled_klines\" / \"1h\"\n",
    "offset = \"5m\"\n",
    "btc_file = spot_results_dir / offset / \"BTCUSDT.parquet\"\n",
    "pl.read_parquet(btc_file).tail(10)"
   ]
  }
 ],
 "metadata": {
  "kernelspec": {
   "display_name": ".venv",
   "language": "python",
   "name": "python3"
  },
  "language_info": {
   "codemirror_mode": {
    "name": "ipython",
    "version": 3
   },
   "file_extension": ".py",
   "mimetype": "text/x-python",
   "name": "python",
   "nbconvert_exporter": "python",
   "pygments_lexer": "ipython3",
   "version": "3.12.11"
  }
 },
 "nbformat": 4,
 "nbformat_minor": 5
}
