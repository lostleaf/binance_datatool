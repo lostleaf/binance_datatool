{
 "cells": [
  {
   "cell_type": "code",
   "execution_count": 1,
   "metadata": {},
   "outputs": [],
   "source": [
    "import os\n",
    "\n",
    "os.chdir('..')"
   ]
  },
  {
   "cell_type": "code",
   "execution_count": 2,
   "metadata": {},
   "outputs": [],
   "source": [
    "from zipfile import ZipFile\n",
    "\n",
    "import polars as pl\n",
    "\n",
    "from aws.checksum import get_verified_aws_data_files\n",
    "from aws.client_async import AwsClient\n",
    "from aws.funding.parse import read_funding_csv\n",
    "from config import BINANCE_DATA_DIR, TradeType"
   ]
  },
  {
   "cell_type": "code",
   "execution_count": null,
   "metadata": {},
   "outputs": [],
   "source": [
    "trade_type = TradeType.um_futures\n",
    "symbol = 'BTCUSDT'\n",
    "\n",
    "funding_dir = BINANCE_DATA_DIR / 'aws_data' / AwsClient.TYPE_BASE_DIR[trade_type] / 'monthly' / 'fundingRate'\n",
    "symbol_dir = funding_dir / symbol\n",
    "\n",
    "verified_files = get_verified_aws_data_files(symbol_dir)\n",
    "read_funding_csv(verified_files[0])"
   ]
  }
 ],
 "metadata": {
  "kernelspec": {
   "display_name": "datatool",
   "language": "python",
   "name": "python3"
  },
  "language_info": {
   "codemirror_mode": {
    "name": "ipython",
    "version": 3
   },
   "file_extension": ".py",
   "mimetype": "text/x-python",
   "name": "python",
   "nbconvert_exporter": "python",
   "pygments_lexer": "ipython3",
   "version": "3.12.7"
  }
 },
 "nbformat": 4,
 "nbformat_minor": 2
}
