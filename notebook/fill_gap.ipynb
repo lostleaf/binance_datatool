{
 "cells": [
  {
   "cell_type": "code",
   "execution_count": null,
   "metadata": {},
   "outputs": [],
   "source": [
    "import os\n",
    "\n",
    "os.chdir('..')"
   ]
  },
  {
   "cell_type": "code",
   "execution_count": null,
   "metadata": {},
   "outputs": [],
   "source": [
    "import polars as pl\n",
    "from config import BINANCE_DATA_DIR, TradeType\n",
    "from generate.merge import merge_klines, merge_funding_rates\n",
    "from util.time import convert_interval_to_timedelta"
   ]
  },
  {
   "cell_type": "code",
   "execution_count": null,
   "metadata": {},
   "outputs": [],
   "source": [
    "symbol = 'BTCUSDT'\n",
    "trade_type = TradeType.spot\n",
    "    \n",
    "kline_dir = BINANCE_DATA_DIR / 'parsed_data' / trade_type.value / 'klines' / symbol / '1m'\n",
    "ldf = pl.scan_parquet(kline_dir).sort('candle_begin_time')\n",
    "df = ldf.collect()\n",
    "df.flags"
   ]
  },
  {
   "cell_type": "code",
   "execution_count": null,
   "metadata": {},
   "outputs": [],
   "source": [
    "time_interval = '1m'\n",
    "\n",
    "complete_times = pl.datetime_range(\n",
    "    df[\"candle_begin_time\"].min(),\n",
    "    df[\"candle_begin_time\"].max(),\n",
    "    interval=convert_interval_to_timedelta(time_interval),\n",
    "    time_zone=\"UTC\",\n",
    "    time_unit=df[\"candle_begin_time\"].dtype.time_unit,\n",
    "    eager=True,\n",
    ")\n",
    "\n",
    "# Create template df with all timestamps\n",
    "template_df = pl.LazyFrame({\"candle_begin_time\": complete_times})\n",
    "template_df.show_graph() "
   ]
  },
  {
   "cell_type": "code",
   "execution_count": null,
   "metadata": {},
   "outputs": [],
   "source": [
    "# Join with original data\n",
    "ldf = template_df.join(df.lazy(), on=\"candle_begin_time\", how=\"left\")\n",
    "\n",
    "ldf = ldf.with_columns(pl.col(\"close\").fill_null(strategy=\"forward\"))\n",
    "ldf = ldf.with_columns(\n",
    "    pl.col(\"open\").fill_null(pl.col(\"close\")),\n",
    "    pl.col(\"high\").fill_null(pl.col(\"close\")),\n",
    "    pl.col(\"low\").fill_null(pl.col(\"close\")),\n",
    ")\n",
    "# Fill volumes with 0\n",
    "ldf = ldf.with_columns(\n",
    "    pl.col(\"volume\").fill_null(0),\n",
    ")\n",
    "\n",
    "ldf.show_graph()"
   ]
  }
 ],
 "metadata": {
  "kernelspec": {
   "display_name": "datatool",
   "language": "python",
   "name": "python3"
  },
  "language_info": {
   "codemirror_mode": {
    "name": "ipython",
    "version": 3
   },
   "file_extension": ".py",
   "mimetype": "text/x-python",
   "name": "python",
   "nbconvert_exporter": "python",
   "pygments_lexer": "ipython3",
   "version": "3.12.9"
  }
 },
 "nbformat": 4,
 "nbformat_minor": 2
}
