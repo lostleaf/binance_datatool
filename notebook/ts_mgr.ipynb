{
 "cells": [
  {
   "cell_type": "code",
   "execution_count": 1,
   "metadata": {},
   "outputs": [],
   "source": [
    "import os\n",
    "os.chdir('..')"
   ]
  },
  {
   "cell_type": "code",
   "execution_count": null,
   "metadata": {},
   "outputs": [],
   "source": [
    "from datetime import timezone\n",
    "from pathlib import Path\n",
    "\n",
    "import polars as pl\n",
    "from dateutil import parser\n",
    "from datetime import timedelta\n",
    "\n",
    "from config import DataFrequency, BINANCE_DATA_DIR, TradeType\n",
    "\n",
    "from util.ts_manager import TSManager\n",
    "from aws.kline.parse import read_csv\n",
    "from aws.client_async import AwsKlineClient\n",
    "\n",
    "pl.Config.set_tbl_rows(30)\n"
   ]
  },
  {
   "cell_type": "code",
   "execution_count": null,
   "metadata": {},
   "outputs": [],
   "source": [
    "symbol = 'BTCUSDT'\n",
    "time_interval = '1m'\n",
    "symbol_kline_dir = BINANCE_DATA_DIR / 'parsed_data' / TradeType.spot.value / 'klines' / symbol / time_interval\n",
    "\n",
    "mgr = TSManager(symbol_kline_dir)\n",
    "\n",
    "df1 = mgr.read_all()\n",
    "df1.shape"
   ]
  },
  {
   "cell_type": "code",
   "execution_count": null,
   "metadata": {},
   "outputs": [],
   "source": [
    "api_dir = BINANCE_DATA_DIR / \"api_data\" / TradeType.spot.value / \"klines\" / symbol / time_interval\n",
    "ldf2 = pl.scan_parquet(api_dir)\n",
    "\n",
    "ldf = pl.concat([df1.lazy(), ldf2])\n",
    "ldf = ldf.unique(\"candle_begin_time\", keep=\"last\").sort(\"candle_begin_time\")\n",
    "\n",
    "df = ldf.collect()\n",
    "df.shape"
   ]
  }
 ],
 "metadata": {
  "kernelspec": {
   "display_name": "datatool",
   "language": "python",
   "name": "python3"
  },
  "language_info": {
   "codemirror_mode": {
    "name": "ipython",
    "version": 3
   },
   "file_extension": ".py",
   "mimetype": "text/x-python",
   "name": "python",
   "nbconvert_exporter": "python",
   "pygments_lexer": "ipython3",
   "version": "3.12.9"
  }
 },
 "nbformat": 4,
 "nbformat_minor": 2
}
