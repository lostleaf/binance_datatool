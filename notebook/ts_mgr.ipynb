{
 "cells": [
  {
   "cell_type": "code",
   "execution_count": 1,
   "metadata": {},
   "outputs": [],
   "source": [
    "import os\n",
    "\n",
    "\n",
    "symbol = 'BTCSTUSDT'\n",
    "time_interval = '1m'"
   ]
  },
  {
   "cell_type": "code",
   "execution_count": null,
   "metadata": {},
   "outputs": [],
   "source": [
    "from datetime import timezone\n",
    "from pathlib import Path\n",
    "\n",
    "import polars as pl\n",
    "from dateutil import parser\n",
    "from datetime import timedelta\n",
    "\n",
    "from config import DataFrequency, BINANCE_DATA_DIR, TradeType\n",
    "\n",
    "from util.ts_manager import TSManager\n",
    "from aws.kline.parse import read_csv\n",
    "from aws.client_async import AwsKlineClient\n",
    "from merge.kline import merge_klines\n",
    "\n",
    "pl.Config.set_tbl_rows(30)\n"
   ]
  },
  {
   "cell_type": "code",
   "execution_count": null,
   "metadata": {},
   "outputs": [],
   "source": [
    "symbols = (BINANCE_DATA_DIR / \"parsed_data\" / TradeType.spot.value / \"klines\").glob(\"*\")\n",
    "symbols = sorted(s.name for s in symbols)\n",
    "\n",
    "dfs = []\n",
    "for symbol in symbols:\n",
    "    df_gap = scan_gaps(TradeType.spot, symbol, time_interval, timedelta(days=1), 0)\n",
    "    if not df_gap.is_empty():\n",
    "        print(symbol)\n",
    "        dfs.append(df_gap.with_columns(pl.lit(symbol).alias(\"symbol\")))\n",
    "\n",
    "pl.concat(dfs)"
   ]
  },
  {
   "cell_type": "code",
   "execution_count": null,
   "metadata": {},
   "outputs": [],
   "source": [
    "symbols = (BINANCE_DATA_DIR / \"parsed_data\" / TradeType.um_futures.value / \"klines\").glob(\"*\")\n",
    "symbols = sorted(s.name for s in symbols)\n",
    "\n",
    "dfs = []\n",
    "for symbol in symbols:\n",
    "    df_gap = scan_gaps(TradeType.um_futures, symbol, time_interval, timedelta(days=1), 0.1)\n",
    "    if not df_gap.is_empty():\n",
    "        print(symbol)\n",
    "        dfs.append(df_gap.with_columns(pl.lit(symbol).alias(\"symbol\")))\n",
    "\n",
    "pl.concat(dfs)"
   ]
  },
  {
   "cell_type": "code",
   "execution_count": null,
   "metadata": {},
   "outputs": [],
   "source": [
    "df = merge_klines(TradeType.um_futures, 'ICPUSDT', '1m')\n",
    "display(df.filter(pl.col('candle_begin_time') < parser.parse(\"2022-09-27 00:00:00+00:00\")).tail())\n",
    "display(df.filter(pl.col('candle_begin_time') > parser.parse(\"2022-09-27 00:00:00+00:00\")).head())"
   ]
  },
  {
   "cell_type": "code",
   "execution_count": null,
   "metadata": {},
   "outputs": [],
   "source": [
    "symbol_kline_dir = BINANCE_DATA_DIR / 'parsed_data' / TradeType.spot.value / 'klines' / symbol / time_interval\n",
    "\n",
    "mgr = TSManager(symbol_kline_dir)\n",
    "c = mgr.get_row_count_per_date()\n",
    "c.filter(pl.col('row_count') != 1440)\n",
    "\n",
    "df1 = mgr.read_all()\n",
    "df1"
   ]
  },
  {
   "cell_type": "code",
   "execution_count": null,
   "metadata": {},
   "outputs": [],
   "source": [
    "api_dir = Path('/home/lostleaf/crypto_data/binance_data/api_data/kline/spot/BTCUSDT/1m')\n",
    "api_files = sorted(api_dir.glob('*.pqt'))\n",
    "ldf2 = pl.scan_parquet(api_files).drop('candle_end_time')\n",
    "\n",
    "ldf = pl.concat([ldf1, ldf2])\n",
    "ldf = ldf.unique('candle_begin_time', keep='last').sort('candle_begin_time')\n",
    "ldf = ldf.with_columns(\n",
    "    (pl.col('quote_volume') / pl.col('volume'))\n",
    "    .fill_null(pl.col('open'))\n",
    "    .clip(pl.col('low'), pl.col('high'))\n",
    "    .alias('vwap1m')\n",
    ")\n",
    "\n",
    "df = ldf.collect()\n",
    "df.tail(10)"
   ]
  },
  {
   "cell_type": "code",
   "execution_count": null,
   "metadata": {},
   "outputs": [],
   "source": []
  }
 ],
 "metadata": {
  "kernelspec": {
   "display_name": "datatool",
   "language": "python",
   "name": "python3"
  },
  "language_info": {
   "codemirror_mode": {
    "name": "ipython",
    "version": 3
   },
   "file_extension": ".py",
   "mimetype": "text/x-python",
   "name": "python",
   "nbconvert_exporter": "python",
   "pygments_lexer": "ipython3",
   "version": "3.12.9"
  }
 },
 "nbformat": 4,
 "nbformat_minor": 2
}
